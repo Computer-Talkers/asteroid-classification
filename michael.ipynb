{
 "cells": [
  {
   "cell_type": "markdown",
   "metadata": {},
   "source": [
    "# Project\n",
    "> In this project we will be classifying whether an object is a threat to earth or not. We will be training and\n",
    "> developing a machine learning model to perform this task. The chosen method to do this for this set will be a *support vector machine*"
   ]
  },
  {
   "cell_type": "code",
   "execution_count": 2,
   "metadata": {},
   "outputs": [],
   "source": [
    "import pandas as pd\n",
    "import numpy as np\n",
    "\n",
    "from sklearn.model_selection import train_test_split\n",
    "from sklearn.metrics import confusion_matrix\n",
    "from sklearn.metrics import accuracy_score\n",
    "from sklearn import svm"
   ]
  },
  {
   "cell_type": "code",
   "execution_count": 3,
   "metadata": {},
   "outputs": [
    {
     "name": "stdout",
     "output_type": "stream",
     "text": [
      "        id                 name  est_diameter_min  est_diameter_max  \\\n",
      "0  2162635  162635 (2000 SS164)          1.198271          2.679415   \n",
      "1  2277475    277475 (2005 WK4)          0.265800          0.594347   \n",
      "2  2512244   512244 (2015 YE18)          0.722030          1.614507   \n",
      "3  3596030          (2012 BV13)          0.096506          0.215794   \n",
      "4  3667127          (2014 GE35)          0.255009          0.570217   \n",
      "\n",
      "   relative_velocity  miss_distance orbiting_body  sentry_object  \\\n",
      "0        13569.24922    54839744.08         Earth          False   \n",
      "1        73588.72666    61438126.52         Earth          False   \n",
      "2       114258.69210    49798724.94         Earth          False   \n",
      "3        24764.30314    25434972.72         Earth          False   \n",
      "4        42737.73376    46275567.00         Earth          False   \n",
      "\n",
      "   absolute_magnitude  hazardous  \n",
      "0               16.73          0  \n",
      "1               20.00          1  \n",
      "2               17.83          0  \n",
      "3               22.20          0  \n",
      "4               20.09          1  \n"
     ]
    }
   ],
   "source": [
    "data = pd.read_csv('data/neo_v3.csv')\n",
    "print(data.head(5))"
   ]
  },
  {
   "cell_type": "markdown",
   "metadata": {},
   "source": [
    "# Data:\n",
    "The data has a lot of generally useless columns. These include \n",
    "- name : The name of said object\n",
    "- id : the assigned id to the object. These are random and do not really say anything about the object. \n",
    "- orbiting_body : They all, minus one, orbit earth. \n",
    "\n",
    "# Notes\n",
    "We notice that the first five entries within sentry_object are \"False\" so this may lead to us to believe they may all be false. So we will check for uniqueness prior to thinking about dropping it"
   ]
  },
  {
   "cell_type": "code",
   "execution_count": 4,
   "metadata": {},
   "outputs": [
    {
     "name": "stdout",
     "output_type": "stream",
     "text": [
      "[False]\n"
     ]
    }
   ],
   "source": [
    "print(data['sentry_object'].unique())"
   ]
  },
  {
   "cell_type": "markdown",
   "metadata": {},
   "source": [
    "Looks like we can drop 'sentry_object'"
   ]
  },
  {
   "cell_type": "code",
   "execution_count": 5,
   "metadata": {},
   "outputs": [
    {
     "name": "stdout",
     "output_type": "stream",
     "text": [
      "   est_diameter_min  est_diameter_max  relative_velocity  miss_distance  \\\n",
      "0          1.198271          2.679415        13569.24922    54839744.08   \n",
      "1          0.265800          0.594347        73588.72666    61438126.52   \n",
      "2          0.722030          1.614507       114258.69210    49798724.94   \n",
      "3          0.096506          0.215794        24764.30314    25434972.72   \n",
      "4          0.255009          0.570217        42737.73376    46275567.00   \n",
      "\n",
      "   absolute_magnitude  hazardous  \n",
      "0               16.73          0  \n",
      "1               20.00          1  \n",
      "2               17.83          0  \n",
      "3               22.20          0  \n",
      "4               20.09          1  \n"
     ]
    }
   ],
   "source": [
    "data.drop(['sentry_object', 'name', 'id', 'orbiting_body'], axis=1, inplace=True)\n",
    "print(data.head(5))\n"
   ]
  },
  {
   "cell_type": "code",
   "execution_count": 6,
   "metadata": {},
   "outputs": [],
   "source": [
    "# Setting up our training and testing vectors. \n",
    "features = ['est_diameter_min', 'est_diameter_max', 'relative_velocity', 'miss_distance', 'absolute_magnitude']\n",
    "target = ['hazardous']\n",
    "\n",
    "x = data.loc[:, features]\n",
    "y = data.loc[:, target]\n",
    "\n",
    "X_train, X_test, y_train, y_test = train_test_split(x,y,test_size=0.2)\n"
   ]
  },
  {
   "cell_type": "code",
   "execution_count": 8,
   "metadata": {},
   "outputs": [
    {
     "name": "stdout",
     "output_type": "stream",
     "text": [
      "Our accuracy score is: 0.9016952884191985\n"
     ]
    }
   ],
   "source": [
    "# Setting up our SVM \n",
    " \n",
    "model = svm.SVC(kernel='rbf')\n",
    "\n",
    "model.fit(X_train, y_train.values.ravel())\n",
    "predictions = model.predict(X_test)\n",
    "print(f\"Our accuracy score is: {accuracy_score(y_test,predictions)}\")"
   ]
  },
  {
   "cell_type": "markdown",
   "metadata": {},
   "source": [
    "## TODO\n",
    "- Explain why I dropped x things\n",
    "- Figure out exactly why \"rbf\" is better for fitting data than \"linear\"\n",
    "- Look into SVM kernels"
   ]
  }
 ],
 "metadata": {
  "kernelspec": {
   "display_name": "Python 3.10.4 64-bit",
   "language": "python",
   "name": "python3"
  },
  "language_info": {
   "codemirror_mode": {
    "name": "ipython",
    "version": 3
   },
   "file_extension": ".py",
   "mimetype": "text/x-python",
   "name": "python",
   "nbconvert_exporter": "python",
   "pygments_lexer": "ipython3",
   "version": "3.10.5"
  },
  "orig_nbformat": 4,
  "vscode": {
   "interpreter": {
    "hash": "23da6c44fdfade1895af465fb64877805475dd90d3ccaca6b7875c070f138084"
   }
  }
 },
 "nbformat": 4,
 "nbformat_minor": 2
}
